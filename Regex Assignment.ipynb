{
 "cells": [
  {
   "cell_type": "code",
   "execution_count": 34,
   "id": "dfd4d464",
   "metadata": {},
   "outputs": [
    {
     "name": "stdout",
     "output_type": "stream",
     "text": [
      "Python:Exercises::PHP:exercise:\n"
     ]
    }
   ],
   "source": [
    "# Question 1- Write a Python program to replace all occurrences of a space, comma, or dot with a colon.\n",
    "#Sample Text- 'Python Exercises, PHP exercises.'\n",
    "# Expected Output: Python:Exercises::PHP:exercises:\n",
    "\n",
    "import re \n",
    "\n",
    "string = \"Python Exercises, PHP exercise.\"\n",
    "\n",
    "# This pattern will help to  remove the coma and dot\n",
    "pattern = '\\W'\n",
    "\n",
    "# Replacing  where there is comma and dot\n",
    "replace = ':'\n",
    "exp_string = re.sub(pattern,replace,string)\n",
    "print(exp_string)\n",
    " "
   ]
  },
  {
   "cell_type": "code",
   "execution_count": 59,
   "id": "71457159",
   "metadata": {},
   "outputs": [
    {
     "name": "stdout",
     "output_type": "stream",
     "text": [
      "['an', 'elderly', 'apha', 'an', 'eating', 'apple', 'ely', 'an', 'example', 'elders', 'ealthy', 'estyle', 'elp', 'an', 'apple']\n"
     ]
    }
   ],
   "source": [
    "#Question 2-  Write a Python program to find all words starting with 'a' or 'e' in a given string.\n",
    "\n",
    "string = 'an elderly apha man love eating apple, is truely an example of elders living healthy lifestyle with the help of an apple fruit'\n",
    "pattern = ('[ae]\\w+')\n",
    "result = re.findall(pattern, string)\n",
    "print(result)"
   ]
  },
  {
   "cell_type": "code",
   "execution_count": 86,
   "id": "479a0866",
   "metadata": {},
   "outputs": [
    {
     "name": "stdout",
     "output_type": "stream",
     "text": [
      "['elde', 'Apha', 'love', 'eati', 'appl', 'true', 'exam', 'elde', 'livi', 'heal', 'life', 'styl', 'with', 'help', 'Appl', 'frui']\n"
     ]
    }
   ],
   "source": [
    "# Question 3- Create a function in python to find all words that are at least 4 characters long in a string. The use of the re.compile() method is mandatory.\n",
    "\n",
    "string = 'An elderly Apha man love eating apple, is truely an example of elders living healthy lifestyle with the help of an Apple fruit'\n",
    "string_pattern = r'\\w{4}'\n",
    "regex_pattern= re.compile(string_pattern)\n",
    "result = regex_pattern.findall(string)\n",
    "print(result)\n"
   ]
  },
  {
   "cell_type": "code",
   "execution_count": 107,
   "id": "24b9403e",
   "metadata": {},
   "outputs": [
    {
     "name": "stdout",
     "output_type": "stream",
     "text": [
      "['elder', 'Apha', 'man', 'love', 'eatin', 'apple', 'truel', 'examp', 'elder', 'livin', 'healt', 'lifes', 'tyle', 'with', 'the', 'help', 'Apple', 'fruit']\n"
     ]
    }
   ],
   "source": [
    "# Question 4- Create a function in python to find all three, four, and five character words in a string. The use of the re.compile() method is mandatory.\n",
    "string = 'An elderly Apha man love eating apple, is truely an example of elders living healthy lifestyle with the help of an Apple fruit'\n",
    "string_pattern =r'\\w{3,5}'\n",
    "regex_pattern= re.compile(string_pattern)\n",
    "result = regex_pattern.findall(string)\n",
    "print(result)"
   ]
  },
  {
   "cell_type": "code",
   "execution_count": 137,
   "id": "3b0f2dc2",
   "metadata": {},
   "outputs": [
    {
     "ename": "TypeError",
     "evalue": "expected string or bytes-like object",
     "output_type": "error",
     "traceback": [
      "\u001b[1;31m---------------------------------------------------------------------------\u001b[0m",
      "\u001b[1;31mTypeError\u001b[0m                                 Traceback (most recent call last)",
      "Cell \u001b[1;32mIn[137], line 7\u001b[0m\n\u001b[0;32m      3\u001b[0m ab \u001b[38;5;241m=\u001b[39m [\u001b[38;5;124m\"\u001b[39m\u001b[38;5;124mexample (.com)\u001b[39m\u001b[38;5;124m\"\u001b[39m, \u001b[38;5;124m\"\u001b[39m\u001b[38;5;124mhr@fliprobo (.com)\u001b[39m\u001b[38;5;124m\"\u001b[39m, \u001b[38;5;124m\"\u001b[39m\u001b[38;5;124mgithub (.com)\u001b[39m\u001b[38;5;124m\"\u001b[39m, \u001b[38;5;124m\"\u001b[39m\u001b[38;5;124mHello (Data Science World)\u001b[39m\u001b[38;5;124m\"\u001b[39m, \u001b[38;5;124m\"\u001b[39m\u001b[38;5;124mData (Scientist)\u001b[39m\u001b[38;5;124m\"\u001b[39m]\n\u001b[0;32m      5\u001b[0m pattern \u001b[38;5;241m=\u001b[39m \u001b[38;5;124mr\u001b[39m\u001b[38;5;124m\"\u001b[39m\u001b[38;5;124m[^(,)]+\u001b[39m\u001b[38;5;124m\"\u001b[39m\n\u001b[1;32m----> 7\u001b[0m matches \u001b[38;5;241m=\u001b[39m \u001b[43mre\u001b[49m\u001b[38;5;241;43m.\u001b[39;49m\u001b[43mfindall\u001b[49m\u001b[43m(\u001b[49m\u001b[43mpattern\u001b[49m\u001b[43m,\u001b[49m\u001b[43mab\u001b[49m\u001b[43m)\u001b[49m\n\u001b[0;32m      8\u001b[0m \u001b[38;5;28mprint\u001b[39m(matches)\n",
      "File \u001b[1;32mC:\\ProgramData\\anaconda3\\lib\\re.py:240\u001b[0m, in \u001b[0;36mfindall\u001b[1;34m(pattern, string, flags)\u001b[0m\n\u001b[0;32m    232\u001b[0m \u001b[38;5;28;01mdef\u001b[39;00m \u001b[38;5;21mfindall\u001b[39m(pattern, string, flags\u001b[38;5;241m=\u001b[39m\u001b[38;5;241m0\u001b[39m):\n\u001b[0;32m    233\u001b[0m     \u001b[38;5;124;03m\"\"\"Return a list of all non-overlapping matches in the string.\u001b[39;00m\n\u001b[0;32m    234\u001b[0m \n\u001b[0;32m    235\u001b[0m \u001b[38;5;124;03m    If one or more capturing groups are present in the pattern, return\u001b[39;00m\n\u001b[1;32m   (...)\u001b[0m\n\u001b[0;32m    238\u001b[0m \n\u001b[0;32m    239\u001b[0m \u001b[38;5;124;03m    Empty matches are included in the result.\"\"\"\u001b[39;00m\n\u001b[1;32m--> 240\u001b[0m     \u001b[38;5;28;01mreturn\u001b[39;00m \u001b[43m_compile\u001b[49m\u001b[43m(\u001b[49m\u001b[43mpattern\u001b[49m\u001b[43m,\u001b[49m\u001b[43m \u001b[49m\u001b[43mflags\u001b[49m\u001b[43m)\u001b[49m\u001b[38;5;241;43m.\u001b[39;49m\u001b[43mfindall\u001b[49m\u001b[43m(\u001b[49m\u001b[43mstring\u001b[49m\u001b[43m)\u001b[49m\n",
      "\u001b[1;31mTypeError\u001b[0m: expected string or bytes-like object"
     ]
    }
   ],
   "source": [
    "# Question 5- Create a function in Python to remove the parenthesis in a list of strings. The use of the re.compile() method is mandatory.\n",
    "\n",
    "ab = [\"example (.com)\", \"hr@fliprobo (.com)\", \"github (.com)\", \"Hello (Data Science World)\", \"Data (Scientist)\"]\n",
    "\n",
    "pattern = r\"[^(,)]+\\n\"\n",
    "\n",
    "matches = re.findall(pattern,ab)\n",
    "print(matches)\n",
    "\n",
    "\n",
    " "
   ]
  },
  {
   "cell_type": "code",
   "execution_count": 174,
   "id": "2267157c",
   "metadata": {},
   "outputs": [
    {
     "name": "stdout",
     "output_type": "stream",
     "text": [
      "['example .com', 'hr@fliprobo .com', 'github .com', 'Hello Data Science World', 'Data Scientist']\n"
     ]
    }
   ],
   "source": [
    "# Question 6- Write a python program to remove the parenthesis area from the text stored in the text file using Regular Expression.\n",
    "text = [\"example (.com)\", \"hr@fliprobo (.com)\", \"github (.com)\", \"Hello (Data Science World)\", \"Data (Scientist)\"]\n",
    "\n",
    "import re\n",
    "with open(\"link.txt\") as file:\n",
    "    for line in file:\n",
    "        url = re.sub(r'[()]','', str(text))\n",
    "        print(url)"
   ]
  },
  {
   "cell_type": "code",
   "execution_count": 144,
   "id": "ec70b78a",
   "metadata": {},
   "outputs": [
    {
     "name": "stdout",
     "output_type": "stream",
     "text": [
      "['Importance', 'Of', 'Regular', 'Expressions', 'In', 'Python']\n"
     ]
    }
   ],
   "source": [
    "# Question 7- Write a regular expression in Python to split a string into uppercase letters.\n",
    "import re\n",
    "text = 'ImportanceOfRegularExpressionsInPython'\n",
    "\n",
    "pattern =('[A-Z][^A-Z]+')\n",
    "\n",
    "\n",
    "result = re.findall(pattern,text)\n",
    "print(result)"
   ]
  },
  {
   "cell_type": "code",
   "execution_count": 100,
   "id": "8fd55d02",
   "metadata": {},
   "outputs": [
    {
     "name": "stdout",
     "output_type": "stream",
     "text": [
      "['RegularExpression', '1IsAn', '2ImportantTopic', '3InPython']\n"
     ]
    }
   ],
   "source": [
    "# Question 8- Create a function in python to insert spaces between words starting with numbers.\n",
    "import re\n",
    "\n",
    "str3= 'RegularExpression1IsAn2ImportantTopic3InPython'\n",
    "\n",
    "pattern =('[A-Z0-9][^0-9]+')\n",
    "\n",
    "\n",
    "\n",
    "\n",
    "result = re.findall(pattern,str3)\n",
    "print(result)\n",
    "\n",
    "\n"
   ]
  },
  {
   "cell_type": "code",
   "execution_count": 85,
   "id": "7a6e2b79",
   "metadata": {},
   "outputs": [
    {
     "ename": "error",
     "evalue": "unterminated character set at position 0",
     "output_type": "error",
     "traceback": [
      "\u001b[1;31m---------------------------------------------------------------------------\u001b[0m",
      "\u001b[1;31merror\u001b[0m                                     Traceback (most recent call last)",
      "Cell \u001b[1;32mIn[85], line 10\u001b[0m\n\u001b[0;32m      1\u001b[0m \u001b[38;5;66;03m# Question 9- Create a function in python to insert spaces between words starting with capital letters or with numbers.\u001b[39;00m\n\u001b[0;32m      2\u001b[0m \u001b[38;5;66;03m# Sample Text: “RegularExpression1IsAn2ImportantTopic3InPython\"\u001b[39;00m\n\u001b[0;32m      3\u001b[0m \u001b[38;5;66;03m# Expected Output:  RegularExpression 1 IsAn 2 ImportantTopic 3 InPython\u001b[39;00m\n\u001b[0;32m      9\u001b[0m target_string \u001b[38;5;241m=\u001b[39m \u001b[38;5;124m'\u001b[39m\u001b[38;5;124mRegularExpression1IsAn2ImportantTopic3InPython\u001b[39m\u001b[38;5;124m'\u001b[39m\n\u001b[1;32m---> 10\u001b[0m result \u001b[38;5;241m=\u001b[39m \u001b[43mre\u001b[49m\u001b[38;5;241;43m.\u001b[39;49m\u001b[43mfindall\u001b[49m\u001b[43m(\u001b[49m\u001b[43m(\u001b[49m\u001b[38;5;124;43mr\u001b[39;49m\u001b[38;5;124;43m\"\u001b[39;49m\u001b[38;5;124;43m[a-zA-Z\u001b[39;49m\u001b[38;5;124;43m\\\u001b[39;49m\u001b[38;5;124;43mS\u001b[39;49m\u001b[38;5;124;43m\"\u001b[39;49m\u001b[43m)\u001b[49m\u001b[43m,\u001b[49m\u001b[43mtarget_string\u001b[49m\u001b[43m)\u001b[49m \u001b[38;5;66;03m# split on the 3 occurance (/-_)\u001b[39;00m\n\u001b[0;32m     12\u001b[0m \u001b[38;5;28mprint\u001b[39m(result)\n",
      "File \u001b[1;32mC:\\ProgramData\\anaconda3\\lib\\re.py:240\u001b[0m, in \u001b[0;36mfindall\u001b[1;34m(pattern, string, flags)\u001b[0m\n\u001b[0;32m    232\u001b[0m \u001b[38;5;28;01mdef\u001b[39;00m \u001b[38;5;21mfindall\u001b[39m(pattern, string, flags\u001b[38;5;241m=\u001b[39m\u001b[38;5;241m0\u001b[39m):\n\u001b[0;32m    233\u001b[0m     \u001b[38;5;124;03m\"\"\"Return a list of all non-overlapping matches in the string.\u001b[39;00m\n\u001b[0;32m    234\u001b[0m \n\u001b[0;32m    235\u001b[0m \u001b[38;5;124;03m    If one or more capturing groups are present in the pattern, return\u001b[39;00m\n\u001b[1;32m   (...)\u001b[0m\n\u001b[0;32m    238\u001b[0m \n\u001b[0;32m    239\u001b[0m \u001b[38;5;124;03m    Empty matches are included in the result.\"\"\"\u001b[39;00m\n\u001b[1;32m--> 240\u001b[0m     \u001b[38;5;28;01mreturn\u001b[39;00m \u001b[43m_compile\u001b[49m\u001b[43m(\u001b[49m\u001b[43mpattern\u001b[49m\u001b[43m,\u001b[49m\u001b[43m \u001b[49m\u001b[43mflags\u001b[49m\u001b[43m)\u001b[49m\u001b[38;5;241m.\u001b[39mfindall(string)\n",
      "File \u001b[1;32mC:\\ProgramData\\anaconda3\\lib\\re.py:303\u001b[0m, in \u001b[0;36m_compile\u001b[1;34m(pattern, flags)\u001b[0m\n\u001b[0;32m    301\u001b[0m \u001b[38;5;28;01mif\u001b[39;00m \u001b[38;5;129;01mnot\u001b[39;00m sre_compile\u001b[38;5;241m.\u001b[39misstring(pattern):\n\u001b[0;32m    302\u001b[0m     \u001b[38;5;28;01mraise\u001b[39;00m \u001b[38;5;167;01mTypeError\u001b[39;00m(\u001b[38;5;124m\"\u001b[39m\u001b[38;5;124mfirst argument must be string or compiled pattern\u001b[39m\u001b[38;5;124m\"\u001b[39m)\n\u001b[1;32m--> 303\u001b[0m p \u001b[38;5;241m=\u001b[39m \u001b[43msre_compile\u001b[49m\u001b[38;5;241;43m.\u001b[39;49m\u001b[43mcompile\u001b[49m\u001b[43m(\u001b[49m\u001b[43mpattern\u001b[49m\u001b[43m,\u001b[49m\u001b[43m \u001b[49m\u001b[43mflags\u001b[49m\u001b[43m)\u001b[49m\n\u001b[0;32m    304\u001b[0m \u001b[38;5;28;01mif\u001b[39;00m \u001b[38;5;129;01mnot\u001b[39;00m (flags \u001b[38;5;241m&\u001b[39m DEBUG):\n\u001b[0;32m    305\u001b[0m     \u001b[38;5;28;01mif\u001b[39;00m \u001b[38;5;28mlen\u001b[39m(_cache) \u001b[38;5;241m>\u001b[39m\u001b[38;5;241m=\u001b[39m _MAXCACHE:\n\u001b[0;32m    306\u001b[0m         \u001b[38;5;66;03m# Drop the oldest item\u001b[39;00m\n",
      "File \u001b[1;32mC:\\ProgramData\\anaconda3\\lib\\sre_compile.py:788\u001b[0m, in \u001b[0;36mcompile\u001b[1;34m(p, flags)\u001b[0m\n\u001b[0;32m    786\u001b[0m \u001b[38;5;28;01mif\u001b[39;00m isstring(p):\n\u001b[0;32m    787\u001b[0m     pattern \u001b[38;5;241m=\u001b[39m p\n\u001b[1;32m--> 788\u001b[0m     p \u001b[38;5;241m=\u001b[39m \u001b[43msre_parse\u001b[49m\u001b[38;5;241;43m.\u001b[39;49m\u001b[43mparse\u001b[49m\u001b[43m(\u001b[49m\u001b[43mp\u001b[49m\u001b[43m,\u001b[49m\u001b[43m \u001b[49m\u001b[43mflags\u001b[49m\u001b[43m)\u001b[49m\n\u001b[0;32m    789\u001b[0m \u001b[38;5;28;01melse\u001b[39;00m:\n\u001b[0;32m    790\u001b[0m     pattern \u001b[38;5;241m=\u001b[39m \u001b[38;5;28;01mNone\u001b[39;00m\n",
      "File \u001b[1;32mC:\\ProgramData\\anaconda3\\lib\\sre_parse.py:955\u001b[0m, in \u001b[0;36mparse\u001b[1;34m(str, flags, state)\u001b[0m\n\u001b[0;32m    952\u001b[0m state\u001b[38;5;241m.\u001b[39mstr \u001b[38;5;241m=\u001b[39m \u001b[38;5;28mstr\u001b[39m\n\u001b[0;32m    954\u001b[0m \u001b[38;5;28;01mtry\u001b[39;00m:\n\u001b[1;32m--> 955\u001b[0m     p \u001b[38;5;241m=\u001b[39m \u001b[43m_parse_sub\u001b[49m\u001b[43m(\u001b[49m\u001b[43msource\u001b[49m\u001b[43m,\u001b[49m\u001b[43m \u001b[49m\u001b[43mstate\u001b[49m\u001b[43m,\u001b[49m\u001b[43m \u001b[49m\u001b[43mflags\u001b[49m\u001b[43m \u001b[49m\u001b[38;5;241;43m&\u001b[39;49m\u001b[43m \u001b[49m\u001b[43mSRE_FLAG_VERBOSE\u001b[49m\u001b[43m,\u001b[49m\u001b[43m \u001b[49m\u001b[38;5;241;43m0\u001b[39;49m\u001b[43m)\u001b[49m\n\u001b[0;32m    956\u001b[0m \u001b[38;5;28;01mexcept\u001b[39;00m Verbose:\n\u001b[0;32m    957\u001b[0m     \u001b[38;5;66;03m# the VERBOSE flag was switched on inside the pattern.  to be\u001b[39;00m\n\u001b[0;32m    958\u001b[0m     \u001b[38;5;66;03m# on the safe side, we'll parse the whole thing again...\u001b[39;00m\n\u001b[0;32m    959\u001b[0m     state \u001b[38;5;241m=\u001b[39m State()\n",
      "File \u001b[1;32mC:\\ProgramData\\anaconda3\\lib\\sre_parse.py:444\u001b[0m, in \u001b[0;36m_parse_sub\u001b[1;34m(source, state, verbose, nested)\u001b[0m\n\u001b[0;32m    442\u001b[0m start \u001b[38;5;241m=\u001b[39m source\u001b[38;5;241m.\u001b[39mtell()\n\u001b[0;32m    443\u001b[0m \u001b[38;5;28;01mwhile\u001b[39;00m \u001b[38;5;28;01mTrue\u001b[39;00m:\n\u001b[1;32m--> 444\u001b[0m     itemsappend(\u001b[43m_parse\u001b[49m\u001b[43m(\u001b[49m\u001b[43msource\u001b[49m\u001b[43m,\u001b[49m\u001b[43m \u001b[49m\u001b[43mstate\u001b[49m\u001b[43m,\u001b[49m\u001b[43m \u001b[49m\u001b[43mverbose\u001b[49m\u001b[43m,\u001b[49m\u001b[43m \u001b[49m\u001b[43mnested\u001b[49m\u001b[43m \u001b[49m\u001b[38;5;241;43m+\u001b[39;49m\u001b[43m \u001b[49m\u001b[38;5;241;43m1\u001b[39;49m\u001b[43m,\u001b[49m\n\u001b[0;32m    445\u001b[0m \u001b[43m                       \u001b[49m\u001b[38;5;129;43;01mnot\u001b[39;49;00m\u001b[43m \u001b[49m\u001b[43mnested\u001b[49m\u001b[43m \u001b[49m\u001b[38;5;129;43;01mand\u001b[39;49;00m\u001b[43m \u001b[49m\u001b[38;5;129;43;01mnot\u001b[39;49;00m\u001b[43m \u001b[49m\u001b[43mitems\u001b[49m\u001b[43m)\u001b[49m)\n\u001b[0;32m    446\u001b[0m     \u001b[38;5;28;01mif\u001b[39;00m \u001b[38;5;129;01mnot\u001b[39;00m sourcematch(\u001b[38;5;124m\"\u001b[39m\u001b[38;5;124m|\u001b[39m\u001b[38;5;124m\"\u001b[39m):\n\u001b[0;32m    447\u001b[0m         \u001b[38;5;28;01mbreak\u001b[39;00m\n",
      "File \u001b[1;32mC:\\ProgramData\\anaconda3\\lib\\sre_parse.py:550\u001b[0m, in \u001b[0;36m_parse\u001b[1;34m(source, state, verbose, nested, first)\u001b[0m\n\u001b[0;32m    548\u001b[0m this \u001b[38;5;241m=\u001b[39m sourceget()\n\u001b[0;32m    549\u001b[0m \u001b[38;5;28;01mif\u001b[39;00m this \u001b[38;5;129;01mis\u001b[39;00m \u001b[38;5;28;01mNone\u001b[39;00m:\n\u001b[1;32m--> 550\u001b[0m     \u001b[38;5;28;01mraise\u001b[39;00m source\u001b[38;5;241m.\u001b[39merror(\u001b[38;5;124m\"\u001b[39m\u001b[38;5;124munterminated character set\u001b[39m\u001b[38;5;124m\"\u001b[39m,\n\u001b[0;32m    551\u001b[0m                        source\u001b[38;5;241m.\u001b[39mtell() \u001b[38;5;241m-\u001b[39m here)\n\u001b[0;32m    552\u001b[0m \u001b[38;5;28;01mif\u001b[39;00m this \u001b[38;5;241m==\u001b[39m \u001b[38;5;124m\"\u001b[39m\u001b[38;5;124m]\u001b[39m\u001b[38;5;124m\"\u001b[39m \u001b[38;5;129;01mand\u001b[39;00m \u001b[38;5;28mset\u001b[39m:\n\u001b[0;32m    553\u001b[0m     \u001b[38;5;28;01mbreak\u001b[39;00m\n",
      "\u001b[1;31merror\u001b[0m: unterminated character set at position 0"
     ]
    }
   ],
   "source": [
    "# Question 9- Create a function in python to insert spaces between words starting with capital letters or with numbers.\n",
    "# Sample Text: “RegularExpression1IsAn2ImportantTopic3InPython\"\n",
    "# Expected Output:  RegularExpression 1 IsAn 2 ImportantTopic 3 InPython\n",
    "\n",
    "\n",
    "\n",
    "\n",
    "\n",
    "target_string = 'RegularExpression1IsAn2ImportantTopic3InPython'\n",
    "result = re.findall((r\"[a-zA-Z\\S\"),target_string) # split on the 3 occurance (/-_)\n",
    "\n",
    "print(result)"
   ]
  },
  {
   "cell_type": "code",
   "execution_count": 65,
   "id": "ed8e969b",
   "metadata": {},
   "outputs": [
    {
     "name": "stdout",
     "output_type": "stream",
     "text": [
      "['xyz@domain.com', 'xyz.abc@sdomain.domain.com']\n",
      "['hr@fliprobo.com']\n"
     ]
    }
   ],
   "source": [
    "# Question 10- Write a python program to extract email address from the text stored in the text file using Regular Expression.\n",
    "# Hello my name is Data Science and my email address is xyz@domain.com and alternate email address is xyz.abc@sdomain.domain.com. \n",
    "# Please contact us at hr@fliprobo.com for further information. \n",
    "# Expected Output: ['xyz@domain.com', 'xyz.abc@sdomain.domain.com']\n",
    "#['hr@fliprobo.com']\n",
    "\n",
    "\n",
    "import re\n",
    "with open(\"emails_ad_url.txt\") as file:\n",
    "    for email in file:\n",
    "        url = re.findall('[a-z0-9\\.]+\\@[a-z0-9\\.]+\\.[a-z]+', email)\n",
    "        print(url)\n"
   ]
  },
  {
   "cell_type": "code",
   "execution_count": 84,
   "id": "cc1409e1",
   "metadata": {},
   "outputs": [
    {
     "name": "stdout",
     "output_type": "stream",
     "text": [
      "['T', 'h', 'e', 'l', 'i', 't', 't', 'l', 'e', 'B', 'O', 'Y', 'l', 'o', 'v', 'e', 'P', 'Y', 'T', 'H', 'O', 'N', 'P', 'r', 'o', 'g', 'a', 'm', 'i', 'n', 'g', 'L', 'a', 'g', 'u', 'a', 'g', 'e']\n"
     ]
    }
   ],
   "source": [
    "# Question 11- Write a Python program to match a string that contains only upper and lowercase letters, numbers, and underscores.\n",
    "\n",
    "upper_string = 'The little BOY love PYTHON Progaming Laguage'\n",
    "pattern = (\"[a-zA-Z0-9_]\")\n",
    "\n",
    "result = re.findall(pattern, upper_string,flags = re.I)# flags = re.I select  H to the output result \n",
    "print(result)"
   ]
  },
  {
   "cell_type": "code",
   "execution_count": 99,
   "id": "af2d884e",
   "metadata": {},
   "outputs": [
    {
     "name": "stdout",
     "output_type": "stream",
     "text": [
      "['9394  oba avenue 11th street is my father addess']\n"
     ]
    }
   ],
   "source": [
    "# Question 12- Write a Python program where a string will start with a specific number. \n",
    "\n",
    "string = '9394  oba avenue 11th street is my father addess'\n",
    "pattern = '9...+' # .- Dot\n",
    "\n",
    "result = re.findall(pattern, string)\n",
    "print(result)\n"
   ]
  },
  {
   "cell_type": "code",
   "execution_count": 60,
   "id": "883c3294",
   "metadata": {},
   "outputs": [
    {
     "name": "stdout",
     "output_type": "stream",
     "text": [
      "264.89.312.187\n"
     ]
    }
   ],
   "source": [
    "# Question 13- Write a Python program to remove leading zeros from an IP address\n",
    "\n",
    "import re\n",
    "ip_str = \"264.089.0312.187\"\n",
    "pattern = '\\.[0]*'\n",
    "replace = \".\"\n",
    "result = re.sub(pattern, replace, ip_str)\n",
    "print(result)"
   ]
  },
  {
   "cell_type": "code",
   "execution_count": 81,
   "id": "82a33d3e",
   "metadata": {},
   "outputs": [
    {
     "name": "stdout",
     "output_type": "stream",
     "text": [
      "['August 15th 1947']\n"
     ]
    }
   ],
   "source": [
    "# Question 14- Write a regular expression in python to match a date string in the form of Month name followed by day number and year stored in a text file.\n",
    "# Sample text :  ' On August 15th 1947 that India was declared independent from British colonialism, and the reins of control were handed over to the leaders of the Country’.\n",
    "# Expected Output- August 15th 1947\n",
    "import re\n",
    "\n",
    "with open('date_url.txt') as file:\n",
    "    for date in file:\n",
    "        match = re.findall('August 15th 1947', date)\n",
    "        print(match)\n"
   ]
  },
  {
   "cell_type": "code",
   "execution_count": 212,
   "id": "ca46b953",
   "metadata": {},
   "outputs": [
    {
     "name": "stdout",
     "output_type": "stream",
     "text": [
      "['he ', ' ', 'ro', ' fox ', 's o', 'er ', 'he ', ' dog']\n"
     ]
    }
   ],
   "source": [
    "# Question 15- Write a Python program to search some literals strings in a string. \n",
    "# Sample text : 'The quick brown fox jumps over the lazy dog.'\n",
    "# Searched words : 'fox', 'dog', 'horse'\n",
    "\n",
    "fd = 'The quick brown fox jumps over the lazy dog.'\n",
    "\n",
    "pattern = r'[fox, dog, horse]+' \n",
    "\n",
    "result = re.findall(pattern, fd)\n",
    "\n",
    "print(result)\n",
    "    \n",
    "    \n",
    "    \n",
    "\n",
    "\n",
    "\n"
   ]
  },
  {
   "cell_type": "code",
   "execution_count": 196,
   "id": "cf07a4e7",
   "metadata": {},
   "outputs": [
    {
     "name": "stdout",
     "output_type": "stream",
     "text": [
      "['fox']\n",
      "search location is : 16\n"
     ]
    }
   ],
   "source": [
    "# Question 16- Write a Python program to search a literals string in a string and also find the location within the original string where the pattern occurs\n",
    "# Sample text : 'The quick brown fox jumps over the lazy dog.'\n",
    "# Searched words : 'fox'\n",
    "\n",
    "xy = 'The quick brown fox jumps over the lazy dog.'\n",
    "\n",
    "pattern = '(fox)' \n",
    "\n",
    "result = re.findall(pattern, xy)\n",
    "\n",
    "print(result)\n",
    "print('search location is :', search.start())\n",
    "\n"
   ]
  },
  {
   "cell_type": "code",
   "execution_count": 203,
   "id": "002ee916",
   "metadata": {},
   "outputs": [
    {
     "name": "stdout",
     "output_type": "stream",
     "text": [
      "<re.Match object; span=(16, 19), match='fox'>\n",
      "search location is : 16\n",
      "<re.Match object; span=(16, 19), match='fox'>\n",
      "search location is : 16\n",
      "<re.Match object; span=(16, 19), match='fox'>\n",
      "search location is : 16\n",
      "<re.Match object; span=(16, 19), match='fox'>\n",
      "search location is : 16\n",
      "<re.Match object; span=(16, 19), match='fox'>\n",
      "search location is : 16\n",
      "<re.Match object; span=(16, 19), match='fox'>\n",
      "search location is : 16\n",
      "<re.Match object; span=(16, 19), match='fox'>\n",
      "search location is : 16\n",
      "<re.Match object; span=(16, 19), match='fox'>\n",
      "search location is : 16\n",
      "<re.Match object; span=(16, 19), match='fox'>\n",
      "search location is : 16\n",
      "<re.Match object; span=(16, 19), match='fox'>\n",
      "search location is : 16\n",
      "<re.Match object; span=(16, 19), match='fox'>\n",
      "search location is : 16\n",
      "<re.Match object; span=(16, 19), match='fox'>\n",
      "search location is : 16\n",
      "<re.Match object; span=(16, 19), match='fox'>\n",
      "search location is : 16\n",
      "<re.Match object; span=(16, 19), match='fox'>\n",
      "search location is : 16\n",
      "<re.Match object; span=(16, 19), match='fox'>\n",
      "search location is : 16\n",
      "<re.Match object; span=(16, 19), match='fox'>\n",
      "search location is : 16\n",
      "<re.Match object; span=(16, 19), match='fox'>\n",
      "search location is : 16\n",
      "<re.Match object; span=(16, 19), match='fox'>\n",
      "search location is : 16\n",
      "<re.Match object; span=(16, 19), match='fox'>\n",
      "search location is : 16\n",
      "<re.Match object; span=(16, 19), match='fox'>\n",
      "search location is : 16\n",
      "<re.Match object; span=(16, 19), match='fox'>\n",
      "search location is : 16\n",
      "<re.Match object; span=(16, 19), match='fox'>\n",
      "search location is : 16\n",
      "<re.Match object; span=(16, 19), match='fox'>\n",
      "search location is : 16\n",
      "<re.Match object; span=(16, 19), match='fox'>\n",
      "search location is : 16\n",
      "<re.Match object; span=(16, 19), match='fox'>\n",
      "search location is : 16\n",
      "<re.Match object; span=(16, 19), match='fox'>\n",
      "search location is : 16\n",
      "<re.Match object; span=(16, 19), match='fox'>\n",
      "search location is : 16\n",
      "<re.Match object; span=(16, 19), match='fox'>\n",
      "search location is : 16\n",
      "<re.Match object; span=(16, 19), match='fox'>\n",
      "search location is : 16\n",
      "<re.Match object; span=(16, 19), match='fox'>\n",
      "search location is : 16\n",
      "<re.Match object; span=(16, 19), match='fox'>\n",
      "search location is : 16\n",
      "<re.Match object; span=(16, 19), match='fox'>\n",
      "search location is : 16\n",
      "<re.Match object; span=(16, 19), match='fox'>\n",
      "search location is : 16\n",
      "<re.Match object; span=(16, 19), match='fox'>\n",
      "search location is : 16\n",
      "<re.Match object; span=(16, 19), match='fox'>\n",
      "search location is : 16\n",
      "<re.Match object; span=(16, 19), match='fox'>\n",
      "search location is : 16\n",
      "<re.Match object; span=(16, 19), match='fox'>\n",
      "search location is : 16\n",
      "<re.Match object; span=(16, 19), match='fox'>\n",
      "search location is : 16\n",
      "<re.Match object; span=(16, 19), match='fox'>\n",
      "search location is : 16\n",
      "<re.Match object; span=(16, 19), match='fox'>\n",
      "search location is : 16\n",
      "<re.Match object; span=(16, 19), match='fox'>\n",
      "search location is : 16\n",
      "<re.Match object; span=(16, 19), match='fox'>\n",
      "search location is : 16\n",
      "<re.Match object; span=(16, 19), match='fox'>\n",
      "search location is : 16\n",
      "<re.Match object; span=(16, 19), match='fox'>\n",
      "search location is : 16\n"
     ]
    }
   ],
   "source": [
    "abc = 'The quick brown fox jumps over the lazy dog.'\n",
    "\n",
    "for words in abc: \n",
    "    \n",
    "    search = re.search('fox', abc)\n",
    "    \n",
    "    print(search)\n",
    "    print('search location is :', search.start())"
   ]
  },
  {
   "cell_type": "code",
   "execution_count": 127,
   "id": "d6f7113f",
   "metadata": {},
   "outputs": [
    {
     "data": {
      "text/plain": [
       "<re.Match object; span=(7, 16), match='exercises'>"
      ]
     },
     "execution_count": 127,
     "metadata": {},
     "output_type": "execute_result"
    }
   ],
   "source": [
    "# Question 17- Write a Python program to find the substrings within a string.\n",
    "# Sample text : 'Python exercises, PHP exercises, C# exercises'\n",
    "# Pattern : 'exercises'.\n",
    "\n",
    "string = 'Python exercises, PHP exercises, C# exercises'\n",
    "match = re.search('exercises', string)\n",
    "match \n"
   ]
  },
  {
   "cell_type": "code",
   "execution_count": 86,
   "id": "adf7ac9b",
   "metadata": {},
   "outputs": [
    {
     "name": "stdout",
     "output_type": "stream",
     "text": [
      "['exercises']\n"
     ]
    }
   ],
   "source": [
    "string1 = 'Python exercises, PHP exercises, C# exercises'\n",
    "\n",
    "pattern = '(exercises)$'\n",
    "\n",
    "result = re.findall(pattern, string1)\n",
    "print(result)"
   ]
  },
  {
   "cell_type": "code",
   "execution_count": 128,
   "id": "51932a16",
   "metadata": {},
   "outputs": [
    {
     "name": "stdout",
     "output_type": "stream",
     "text": [
      "<re.Match object; span=(15, 21), match='Orange'>\n",
      "search position is : 15 \n",
      "\n",
      "<re.Match object; span=(0, 6), match='Orange'>\n",
      "search position is : 0 \n",
      "\n"
     ]
    }
   ],
   "source": [
    "# Question 18- Write a Python program to find the occurrence and position of the substrings within a string.\n",
    "ab =  ['The little gir Orange was bad.','Orange taste fatanstic when is good.']\n",
    "\n",
    "for fruit in ab: \n",
    "    \n",
    "    search = re.search('Orange', fruit)# It will search for June in the string\n",
    "    \n",
    "    print(search)\n",
    "    print('search position is :', search.start(),\"\\n\")"
   ]
  },
  {
   "cell_type": "code",
   "execution_count": 93,
   "id": "4d0fc8a3",
   "metadata": {},
   "outputs": [
    {
     "name": "stdout",
     "output_type": "stream",
     "text": [
      "2023-08-08\n",
      "08/08/2023\n"
     ]
    }
   ],
   "source": [
    "# Question 19- Write a Python program to convert a date of yyyy-mm-dd format to dd-mm-yyyy format.\n",
    "\n",
    "import datetime\n",
    "\n",
    "date = datetime.date.today()\n",
    "\n",
    "print(date)\n",
    "\n",
    "updated_today_date = date.strftime('%d/%m/%Y')\n",
    "print(updated_today_date)"
   ]
  },
  {
   "cell_type": "code",
   "execution_count": 213,
   "id": "8b8621a9",
   "metadata": {},
   "outputs": [
    {
     "data": {
      "text/html": [
       "<div>\n",
       "<style scoped>\n",
       "    .dataframe tbody tr th:only-of-type {\n",
       "        vertical-align: middle;\n",
       "    }\n",
       "\n",
       "    .dataframe tbody tr th {\n",
       "        vertical-align: top;\n",
       "    }\n",
       "\n",
       "    .dataframe thead th {\n",
       "        text-align: right;\n",
       "    }\n",
       "</style>\n",
       "<table border=\"1\" class=\"dataframe\">\n",
       "  <thead>\n",
       "    <tr style=\"text-align: right;\">\n",
       "      <th></th>\n",
       "      <th>Date</th>\n",
       "    </tr>\n",
       "  </thead>\n",
       "  <tbody>\n",
       "    <tr>\n",
       "      <th>0</th>\n",
       "      <td>2023-12-04</td>\n",
       "    </tr>\n",
       "    <tr>\n",
       "      <th>1</th>\n",
       "      <td>2023-12-05</td>\n",
       "    </tr>\n",
       "    <tr>\n",
       "      <th>2</th>\n",
       "      <td>2023-12-06</td>\n",
       "    </tr>\n",
       "    <tr>\n",
       "      <th>3</th>\n",
       "      <td>2023-12-07</td>\n",
       "    </tr>\n",
       "    <tr>\n",
       "      <th>4</th>\n",
       "      <td>2023-12-08</td>\n",
       "    </tr>\n",
       "    <tr>\n",
       "      <th>5</th>\n",
       "      <td>2023-12-09</td>\n",
       "    </tr>\n",
       "    <tr>\n",
       "      <th>6</th>\n",
       "      <td>2023-12-10</td>\n",
       "    </tr>\n",
       "    <tr>\n",
       "      <th>7</th>\n",
       "      <td>2023-12-11</td>\n",
       "    </tr>\n",
       "    <tr>\n",
       "      <th>8</th>\n",
       "      <td>2023-12-12</td>\n",
       "    </tr>\n",
       "    <tr>\n",
       "      <th>9</th>\n",
       "      <td>2023-12-13</td>\n",
       "    </tr>\n",
       "    <tr>\n",
       "      <th>10</th>\n",
       "      <td>2023-12-14</td>\n",
       "    </tr>\n",
       "    <tr>\n",
       "      <th>11</th>\n",
       "      <td>2023-12-15</td>\n",
       "    </tr>\n",
       "  </tbody>\n",
       "</table>\n",
       "</div>"
      ],
      "text/plain": [
       "         Date\n",
       "0  2023-12-04\n",
       "1  2023-12-05\n",
       "2  2023-12-06\n",
       "3  2023-12-07\n",
       "4  2023-12-08\n",
       "5  2023-12-09\n",
       "6  2023-12-10\n",
       "7  2023-12-11\n",
       "8  2023-12-12\n",
       "9  2023-12-13\n",
       "10 2023-12-14\n",
       "11 2023-12-15"
      ]
     },
     "execution_count": 213,
     "metadata": {},
     "output_type": "execute_result"
    }
   ],
   "source": [
    "# Another Method \n",
    "\n",
    "import pandas as pd \n",
    "\n",
    "date_range = pd.date_range('2023/12/04', periods = 12, freq = 'D')\n",
    "dates2 = pd.DataFrame(date_range, columns = ['Date'])\n",
    "dates2"
   ]
  },
  {
   "cell_type": "code",
   "execution_count": 214,
   "id": "dbb4a587",
   "metadata": {},
   "outputs": [
    {
     "data": {
      "text/html": [
       "<div>\n",
       "<style scoped>\n",
       "    .dataframe tbody tr th:only-of-type {\n",
       "        vertical-align: middle;\n",
       "    }\n",
       "\n",
       "    .dataframe tbody tr th {\n",
       "        vertical-align: top;\n",
       "    }\n",
       "\n",
       "    .dataframe thead th {\n",
       "        text-align: right;\n",
       "    }\n",
       "</style>\n",
       "<table border=\"1\" class=\"dataframe\">\n",
       "  <thead>\n",
       "    <tr style=\"text-align: right;\">\n",
       "      <th></th>\n",
       "      <th>Date</th>\n",
       "      <th>Day</th>\n",
       "      <th>Month</th>\n",
       "      <th>Year</th>\n",
       "    </tr>\n",
       "  </thead>\n",
       "  <tbody>\n",
       "    <tr>\n",
       "      <th>0</th>\n",
       "      <td>2023-12-04</td>\n",
       "      <td>31</td>\n",
       "      <td>12</td>\n",
       "      <td>2021</td>\n",
       "    </tr>\n",
       "    <tr>\n",
       "      <th>1</th>\n",
       "      <td>2023-12-05</td>\n",
       "      <td>31</td>\n",
       "      <td>1</td>\n",
       "      <td>2022</td>\n",
       "    </tr>\n",
       "    <tr>\n",
       "      <th>2</th>\n",
       "      <td>2023-12-06</td>\n",
       "      <td>28</td>\n",
       "      <td>2</td>\n",
       "      <td>2022</td>\n",
       "    </tr>\n",
       "    <tr>\n",
       "      <th>3</th>\n",
       "      <td>2023-12-07</td>\n",
       "      <td>31</td>\n",
       "      <td>3</td>\n",
       "      <td>2022</td>\n",
       "    </tr>\n",
       "    <tr>\n",
       "      <th>4</th>\n",
       "      <td>2023-12-08</td>\n",
       "      <td>30</td>\n",
       "      <td>4</td>\n",
       "      <td>2022</td>\n",
       "    </tr>\n",
       "    <tr>\n",
       "      <th>5</th>\n",
       "      <td>2023-12-09</td>\n",
       "      <td>31</td>\n",
       "      <td>5</td>\n",
       "      <td>2022</td>\n",
       "    </tr>\n",
       "    <tr>\n",
       "      <th>6</th>\n",
       "      <td>2023-12-10</td>\n",
       "      <td>30</td>\n",
       "      <td>6</td>\n",
       "      <td>2022</td>\n",
       "    </tr>\n",
       "    <tr>\n",
       "      <th>7</th>\n",
       "      <td>2023-12-11</td>\n",
       "      <td>31</td>\n",
       "      <td>7</td>\n",
       "      <td>2022</td>\n",
       "    </tr>\n",
       "    <tr>\n",
       "      <th>8</th>\n",
       "      <td>2023-12-12</td>\n",
       "      <td>31</td>\n",
       "      <td>8</td>\n",
       "      <td>2022</td>\n",
       "    </tr>\n",
       "    <tr>\n",
       "      <th>9</th>\n",
       "      <td>2023-12-13</td>\n",
       "      <td>30</td>\n",
       "      <td>9</td>\n",
       "      <td>2022</td>\n",
       "    </tr>\n",
       "    <tr>\n",
       "      <th>10</th>\n",
       "      <td>2023-12-14</td>\n",
       "      <td>31</td>\n",
       "      <td>10</td>\n",
       "      <td>2022</td>\n",
       "    </tr>\n",
       "    <tr>\n",
       "      <th>11</th>\n",
       "      <td>2023-12-15</td>\n",
       "      <td>30</td>\n",
       "      <td>11</td>\n",
       "      <td>2022</td>\n",
       "    </tr>\n",
       "  </tbody>\n",
       "</table>\n",
       "</div>"
      ],
      "text/plain": [
       "         Date  Day  Month  Year\n",
       "0  2023-12-04   31     12  2021\n",
       "1  2023-12-05   31      1  2022\n",
       "2  2023-12-06   28      2  2022\n",
       "3  2023-12-07   31      3  2022\n",
       "4  2023-12-08   30      4  2022\n",
       "5  2023-12-09   31      5  2022\n",
       "6  2023-12-10   30      6  2022\n",
       "7  2023-12-11   31      7  2022\n",
       "8  2023-12-12   31      8  2022\n",
       "9  2023-12-13   30      9  2022\n",
       "10 2023-12-14   31     10  2022\n",
       "11 2023-12-15   30     11  2022"
      ]
     },
     "execution_count": 214,
     "metadata": {},
     "output_type": "execute_result"
    }
   ],
   "source": [
    "# Coversion to dd-mm-yyyy\n",
    "\n",
    "dates2['Day'] = dates['Date'].dt.day\n",
    "dates2['Month'] = dates['Date'].dt.month\n",
    "dates2['Year']= dates['Date'].dt.year\n",
    "dates2"
   ]
  },
  {
   "cell_type": "code",
   "execution_count": 154,
   "id": "6b1af6fe",
   "metadata": {},
   "outputs": [
    {
     "name": "stdout",
     "output_type": "stream",
     "text": [
      "['40.5', '45.20']\n"
     ]
    }
   ],
   "source": [
    "# Question 20- Create a function in python to find all decimal numbers with a precision of 1 or 2 in a string. The use of the re.compile() method is mandatory.\n",
    "\n",
    "import re\n",
    "string = \"Nigeria  temperature Todays will fall at of  40.5 to 45.20 degrees.\"\n",
    "dc_pattern = \"\\d+\\.\\d+\"\n",
    "reg_dc_pattern = re.compile(dc_pattern)\n",
    "dc= reg_dc_pattern.findall(string) \n",
    "print(dc)"
   ]
  },
  {
   "cell_type": "code",
   "execution_count": null,
   "id": "30da6f21",
   "metadata": {},
   "outputs": [],
   "source": [
    "# Question 21- Write a Python program to separate and print the numbers and their position of a given string."
   ]
  },
  {
   "cell_type": "code",
   "execution_count": 161,
   "id": "eea1f4dd",
   "metadata": {},
   "outputs": [
    {
     "name": "stdout",
     "output_type": "stream",
     "text": [
      "['950']\n"
     ]
    }
   ],
   "source": [
    "# Question 22- Write a regular expression in python program to extract maximum/largest numeric value from a string.\n",
    "# Sample Text:  'My marks in each semester are: 947, 896, 926, 524, 734, 950, 642'\n",
    "# Expected Output: 950\n",
    "\n",
    "string = 'My marks in each semester are: 947, 896, 926, 524, 734, 950, 642'\n",
    "pattern = '950'\n",
    "\n",
    "result = re.findall(pattern, string)\n",
    "print(result)\n"
   ]
  },
  {
   "cell_type": "code",
   "execution_count": 169,
   "id": "e6924fd0",
   "metadata": {},
   "outputs": [
    {
     "name": "stdout",
     "output_type": "stream",
     "text": [
      "['Regular', 'Expression', 'Is', 'An', 'Important', 'Topic', 'In', 'Python']\n"
     ]
    }
   ],
   "source": [
    "# Question 23- Create a function in python to insert spaces between words starting with capital letters.\n",
    "# Sample Text: “RegularExpressionIsAnImportantTopicInPython\"\n",
    "# Expected Output: Regular Expression Is An Important Topic In Python\n",
    "    \n",
    "\n",
    "ab = \"RegularExpressionIsAnImportantTopicInPython\"    \n",
    "    \n",
    "pattern =('[A-Z0-9][^A0-Z9]+')\n",
    "\n",
    "result = re.findall(pattern, ab)\n",
    "print(result)\n",
    "\n"
   ]
  },
  {
   "cell_type": "code",
   "execution_count": 177,
   "id": "6ed044a8",
   "metadata": {},
   "outputs": [
    {
     "name": "stdout",
     "output_type": "stream",
     "text": [
      "['H', 'h']\n"
     ]
    }
   ],
   "source": [
    "# Question 24- Python regex to find sequences of one upper case letter followed by lower case letters\n",
    "\n",
    "uplo_string = 'Hello 12 hi '\n",
    "pattern = '[h]'\n",
    "\n",
    "result = re.findall(pattern, uplo_string,flags = re.I)# flags = re.I select  H to the output result \n",
    "print(result)"
   ]
  },
  {
   "cell_type": "code",
   "execution_count": 180,
   "id": "4a69e9c1",
   "metadata": {},
   "outputs": [
    {
     "name": "stdout",
     "output_type": "stream",
     "text": [
      "<re.Match object; span=(0, 2), match='Re'>\n"
     ]
    }
   ],
   "source": [
    "cb = \"RegularExpressionIsAnImportantTopicInPython\"  \n",
    "\n",
    "pattern = '[A-Z]+[a-z]'\n",
    "\n",
    "y = re.search(pattern,cb)\n",
    "print(y)"
   ]
  },
  {
   "cell_type": "code",
   "execution_count": 29,
   "id": "d6be78b6",
   "metadata": {},
   "outputs": [
    {
     "name": "stdout",
     "output_type": "stream",
     "text": [
      "Hello hello world world\n"
     ]
    }
   ],
   "source": [
    "# Question 25- Write a Python program to remove continuous duplicate words from Sentence using Regular Expression.\n",
    "# Sample Text: \"Hello hello world world\"\n",
    "# Expected Output: Hello hello world\n",
    "import re\n",
    "dup = \"Hello hello world world\"\n",
    "\n",
    "pattern = \n",
    "\n",
    "replace= ''\n",
    "\n",
    "rem_dup = re.sub(pattern,replace, dup)\n",
    "print(rem_dup)\n",
    "\n",
    "\n",
    "\n",
    "\n",
    "\n",
    "\n"
   ]
  },
  {
   "cell_type": "code",
   "execution_count": 46,
   "id": "2eba2bea",
   "metadata": {},
   "outputs": [
    {
     "name": "stdout",
     "output_type": "stream",
     "text": [
      "<re.Match object; span=(0, 9), match='213abc01a'>\n"
     ]
    }
   ],
   "source": [
    "# Question 26-  Write a python program using RegEx to accept string ending with alphanumeric character.\n",
    "\n",
    "t_string= \"213abc01a special number  for security  otp \"\n",
    "\n",
    "result = re.match(\"[0-9a-z]+\", t_string)\n",
    "print(result)\n",
    "\n"
   ]
  },
  {
   "cell_type": "code",
   "execution_count": 128,
   "id": "881960b8",
   "metadata": {},
   "outputs": [
    {
     "name": "stdout",
     "output_type": "stream",
     "text": [
      "['#Doltiwal', '#xyzabc', '#Demonetization']\n"
     ]
    }
   ],
   "source": [
    "# Question 27-Write a python program using RegEx to extract the hashtags.\n",
    "# Sample Text:  \"\"\"RT @kapil_kausik: #Doltiwal I mean #xyzabc is \"hurt\" by #Demonetization as the same has rendered USELESS <ed><U+00A0><U+00BD><ed><U+00B1><U+0089> \"acquired funds\" No wo\"\"\"\n",
    "#Expected Output: ['#Doltiwal', '#xyzabc', '#Demonetization']\n",
    "\n",
    "\n",
    "text = \"RT @kapil_kausik: #Doltiwal I mean #xyzabc is hurt by #Demonetization as the same has rendered USELESS <ed><U+00A0><U+00BD><ed><U+00B1><U+0089> acquired funds No wo\"\n",
    "\n",
    "pattern = \"(\\#[a-zA-Z]+)\"\n",
    "\n",
    "matches  = re.findall(pattern,text)\n",
    "print(matches)"
   ]
  },
  {
   "cell_type": "code",
   "execution_count": 138,
   "id": "0f995e7a",
   "metadata": {},
   "outputs": [
    {
     "name": "stdout",
     "output_type": "stream",
     "text": [
      "['@Jags123456 Bharat band on 28??<ed><U+00A0><U+00BD><ed><U+00B8><U+0082>Those']\n"
     ]
    }
   ],
   "source": [
    "# Question 28- Write a python program using RegEx to remove <U+..> like symbols\n",
    "# Check the below sample text, there are strange symbols something of the sort <U+..> all over the place. You need to come up with a general Regex expression that will cover all such symbols.\n",
    "# Sample Text: \"@Jags123456 Bharat band on 28??<ed><U+00A0><U+00BD><ed><U+00B8><U+0082>Those who  are protesting #demonetizationare all different party leaders\n",
    "\n",
    "text = \"@Jags123456 Bharat band on 28??<ed><U+00A0><U+00BD><ed><U+00B8><U+0082>Those who  are protesting #demonetization  are all different party leaders\"\n",
    "\n",
    "pattern = '\\@\\w+\\s\\w+\\s+\\w+\\s\\w+\\s\\d+\\?+[\\<\\w+\\>]+\\S+\\w+\\S\\w+\\S\\w+'\n",
    "\n",
    "matches = re.findall(pattern,text)\n",
    "print(matches)\n",
    "\n",
    "\n"
   ]
  },
  {
   "cell_type": "code",
   "execution_count": 133,
   "id": "be9e8ca9",
   "metadata": {},
   "outputs": [
    {
     "name": "stdout",
     "output_type": "stream",
     "text": [
      "['12-09-1992', '15-12-1999']\n"
     ]
    }
   ],
   "source": [
    "# Question 29- Write a python program to extract dates from the text stored in the text file.\n",
    "# Sample Text: Ron was born on 12-09-1992 and he was admitted to school 15-12-1999.\n",
    "# Note- Store this sample text in the file and then extract dates.\n",
    "\n",
    "\n",
    "\n",
    "\n",
    "with open(\"date_of_birth.txt\") as file:\n",
    "    for date in file:\n",
    "        result = re.findall(r'(\\d+-\\d+-\\d+)', date)\n",
    "        print(result)"
   ]
  },
  {
   "cell_type": "code",
   "execution_count": 136,
   "id": "3a432424",
   "metadata": {},
   "outputs": [
    {
     "name": "stdout",
     "output_type": "stream",
     "text": [
      " following example creates  ArrayList  a capacity   elements. 4 elements   added   ArrayList   ArrayList  trimmed accordingly.\n"
     ]
    }
   ],
   "source": [
    "# Question 30- Create a function in python to remove all words from a string of length between 2 and 4.\n",
    "# The use of the re.compile() method is mandatory.\n",
    "# Sample Text: \"The following example creates an ArrayList with a capacity of 50 elements. 4 elements are then added to the ArrayList and the ArrayList is trimmed accordingly.\"\n",
    "# Expected Output:  following example creates ArrayList a capacity elements. 4 elements added ArrayList ArrayList trimmed accordingly.\n",
    "\n",
    "\n",
    "text= \"The following example creates an ArrayList with a capacity of 50 elements. 4 elements are then added to the ArrayList and the ArrayList is trimmed accordingly.\"\n",
    "pattern = r'\\b\\w{2,4}\\b'\n",
    "\n",
    "\n",
    "regex_pattern  = re.compile(pattern)\n",
    "                 \n",
    "result = regex_pattern.sub('', text)\n",
    "print(result)"
   ]
  },
  {
   "cell_type": "code",
   "execution_count": null,
   "id": "2934a543",
   "metadata": {},
   "outputs": [],
   "source": []
  }
 ],
 "metadata": {
  "kernelspec": {
   "display_name": "Python 3 (ipykernel)",
   "language": "python",
   "name": "python3"
  },
  "language_info": {
   "codemirror_mode": {
    "name": "ipython",
    "version": 3
   },
   "file_extension": ".py",
   "mimetype": "text/x-python",
   "name": "python",
   "nbconvert_exporter": "python",
   "pygments_lexer": "ipython3",
   "version": "3.10.9"
  }
 },
 "nbformat": 4,
 "nbformat_minor": 5
}
